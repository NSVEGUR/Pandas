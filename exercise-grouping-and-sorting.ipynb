{
 "cells": [
  {
   "cell_type": "markdown",
   "id": "8055e41f",
   "metadata": {
    "papermill": {
     "duration": 0.006661,
     "end_time": "2022-10-18T19:29:18.113089",
     "exception": false,
     "start_time": "2022-10-18T19:29:18.106428",
     "status": "completed"
    },
    "tags": []
   },
   "source": [
    "**This notebook is an exercise in the [Pandas](https://www.kaggle.com/learn/pandas) course.  You can reference the tutorial at [this link](https://www.kaggle.com/residentmario/grouping-and-sorting).**\n",
    "\n",
    "---\n"
   ]
  },
  {
   "cell_type": "markdown",
   "id": "4e82ea91",
   "metadata": {
    "papermill": {
     "duration": 0.005201,
     "end_time": "2022-10-18T19:29:18.123975",
     "exception": false,
     "start_time": "2022-10-18T19:29:18.118774",
     "status": "completed"
    },
    "tags": []
   },
   "source": [
    "# Introduction\n",
    "\n",
    "In these exercises we'll apply groupwise analysis to our dataset.\n",
    "\n",
    "Run the code cell below to load the data before running the exercises."
   ]
  },
  {
   "cell_type": "code",
   "execution_count": 1,
   "id": "88155882",
   "metadata": {
    "execution": {
     "iopub.execute_input": "2022-10-18T19:29:18.136936Z",
     "iopub.status.busy": "2022-10-18T19:29:18.136475Z",
     "iopub.status.idle": "2022-10-18T19:29:21.230133Z",
     "shell.execute_reply": "2022-10-18T19:29:21.228998Z"
    },
    "papermill": {
     "duration": 3.103645,
     "end_time": "2022-10-18T19:29:21.233207",
     "exception": false,
     "start_time": "2022-10-18T19:29:18.129562",
     "status": "completed"
    },
    "tags": []
   },
   "outputs": [
    {
     "name": "stdout",
     "output_type": "stream",
     "text": [
      "Setup complete.\n"
     ]
    }
   ],
   "source": [
    "import pandas as pd\n",
    "\n",
    "reviews = pd.read_csv(\"../input/wine-reviews/winemag-data-130k-v2.csv\", index_col=0)\n",
    "#pd.set_option(\"display.max_rows\", 5)\n",
    "\n",
    "from learntools.core import binder; binder.bind(globals())\n",
    "from learntools.pandas.grouping_and_sorting import *\n",
    "print(\"Setup complete.\")"
   ]
  },
  {
   "cell_type": "markdown",
   "id": "15f2364e",
   "metadata": {
    "papermill": {
     "duration": 0.005473,
     "end_time": "2022-10-18T19:29:21.244680",
     "exception": false,
     "start_time": "2022-10-18T19:29:21.239207",
     "status": "completed"
    },
    "tags": []
   },
   "source": [
    "# Exercises"
   ]
  },
  {
   "cell_type": "markdown",
   "id": "845ea5a0",
   "metadata": {
    "papermill": {
     "duration": 0.005307,
     "end_time": "2022-10-18T19:29:21.255639",
     "exception": false,
     "start_time": "2022-10-18T19:29:21.250332",
     "status": "completed"
    },
    "tags": []
   },
   "source": [
    "## 1.\n",
    "Who are the most common wine reviewers in the dataset? Create a `Series` whose index is the `taster_twitter_handle` category from the dataset, and whose values count how many reviews each person wrote."
   ]
  },
  {
   "cell_type": "code",
   "execution_count": 2,
   "id": "70d17536",
   "metadata": {
    "execution": {
     "iopub.execute_input": "2022-10-18T19:29:21.271735Z",
     "iopub.status.busy": "2022-10-18T19:29:21.271217Z",
     "iopub.status.idle": "2022-10-18T19:29:21.312194Z",
     "shell.execute_reply": "2022-10-18T19:29:21.310987Z"
    },
    "papermill": {
     "duration": 0.054848,
     "end_time": "2022-10-18T19:29:21.316801",
     "exception": false,
     "start_time": "2022-10-18T19:29:21.261953",
     "status": "completed"
    },
    "tags": []
   },
   "outputs": [
    {
     "data": {
      "application/javascript": [
       "parent.postMessage({\"jupyterEvent\": \"custom.exercise_interaction\", \"data\": {\"outcomeType\": 1, \"valueTowardsCompletion\": 0.16666666666666666, \"interactionType\": 1, \"questionType\": 1, \"questionId\": \"1_ReviewsWritten\", \"learnToolsVersion\": \"0.3.4\", \"failureMessage\": \"\", \"exceptionClass\": \"\", \"trace\": \"\"}}, \"*\")"
      ],
      "text/plain": [
       "<IPython.core.display.Javascript object>"
      ]
     },
     "metadata": {},
     "output_type": "display_data"
    },
    {
     "data": {
      "text/markdown": [
       "<span style=\"color:#33cc33\">Correct:</span> \n",
       "\n",
       "\n",
       "```python\n",
       "reviews_written = reviews.groupby('taster_twitter_handle').size()\n",
       "```\n",
       "or\n",
       "```python\n",
       "reviews_written = reviews.groupby('taster_twitter_handle').taster_twitter_handle.count()\n",
       "```\n"
      ],
      "text/plain": [
       "Correct: \n",
       "\n",
       "\n",
       "```python\n",
       "reviews_written = reviews.groupby('taster_twitter_handle').size()\n",
       "```\n",
       "or\n",
       "```python\n",
       "reviews_written = reviews.groupby('taster_twitter_handle').taster_twitter_handle.count()\n",
       "```"
      ]
     },
     "metadata": {},
     "output_type": "display_data"
    }
   ],
   "source": [
    "# Your code here\n",
    "reviews_written = reviews.groupby(\"taster_twitter_handle\").taster_twitter_handle.count()\n",
    "# Check your answer\n",
    "q1.check()"
   ]
  },
  {
   "cell_type": "code",
   "execution_count": 3,
   "id": "40b506b9",
   "metadata": {
    "execution": {
     "iopub.execute_input": "2022-10-18T19:29:21.335809Z",
     "iopub.status.busy": "2022-10-18T19:29:21.335409Z",
     "iopub.status.idle": "2022-10-18T19:29:21.340453Z",
     "shell.execute_reply": "2022-10-18T19:29:21.339231Z"
    },
    "papermill": {
     "duration": 0.016585,
     "end_time": "2022-10-18T19:29:21.342939",
     "exception": false,
     "start_time": "2022-10-18T19:29:21.326354",
     "status": "completed"
    },
    "tags": []
   },
   "outputs": [],
   "source": [
    "#q1.hint()\n",
    "#q1.solution()"
   ]
  },
  {
   "cell_type": "markdown",
   "id": "ee665989",
   "metadata": {
    "papermill": {
     "duration": 0.007234,
     "end_time": "2022-10-18T19:29:21.357923",
     "exception": false,
     "start_time": "2022-10-18T19:29:21.350689",
     "status": "completed"
    },
    "tags": []
   },
   "source": [
    "## 2.\n",
    "What is the best wine I can buy for a given amount of money? Create a `Series` whose index is wine prices and whose values is the maximum number of points a wine costing that much was given in a review. Sort the values by price, ascending (so that `4.0` dollars is at the top and `3300.0` dollars is at the bottom)."
   ]
  },
  {
   "cell_type": "code",
   "execution_count": 4,
   "id": "dfdef5e0",
   "metadata": {
    "execution": {
     "iopub.execute_input": "2022-10-18T19:29:21.374317Z",
     "iopub.status.busy": "2022-10-18T19:29:21.373215Z",
     "iopub.status.idle": "2022-10-18T19:29:21.393569Z",
     "shell.execute_reply": "2022-10-18T19:29:21.392335Z"
    },
    "papermill": {
     "duration": 0.030328,
     "end_time": "2022-10-18T19:29:21.395862",
     "exception": false,
     "start_time": "2022-10-18T19:29:21.365534",
     "status": "completed"
    },
    "tags": []
   },
   "outputs": [
    {
     "data": {
      "text/html": [
       "<div>\n",
       "<style scoped>\n",
       "    .dataframe tbody tr th:only-of-type {\n",
       "        vertical-align: middle;\n",
       "    }\n",
       "\n",
       "    .dataframe tbody tr th {\n",
       "        vertical-align: top;\n",
       "    }\n",
       "\n",
       "    .dataframe thead th {\n",
       "        text-align: right;\n",
       "    }\n",
       "</style>\n",
       "<table border=\"1\" class=\"dataframe\">\n",
       "  <thead>\n",
       "    <tr style=\"text-align: right;\">\n",
       "      <th></th>\n",
       "      <th>country</th>\n",
       "      <th>description</th>\n",
       "      <th>designation</th>\n",
       "      <th>points</th>\n",
       "      <th>price</th>\n",
       "      <th>province</th>\n",
       "      <th>region_1</th>\n",
       "      <th>region_2</th>\n",
       "      <th>taster_name</th>\n",
       "      <th>taster_twitter_handle</th>\n",
       "      <th>title</th>\n",
       "      <th>variety</th>\n",
       "      <th>winery</th>\n",
       "    </tr>\n",
       "  </thead>\n",
       "  <tbody>\n",
       "    <tr>\n",
       "      <th>0</th>\n",
       "      <td>Italy</td>\n",
       "      <td>Aromas include tropical fruit, broom, brimston...</td>\n",
       "      <td>Vulkà Bianco</td>\n",
       "      <td>87</td>\n",
       "      <td>NaN</td>\n",
       "      <td>Sicily &amp; Sardinia</td>\n",
       "      <td>Etna</td>\n",
       "      <td>NaN</td>\n",
       "      <td>Kerin O’Keefe</td>\n",
       "      <td>@kerinokeefe</td>\n",
       "      <td>Nicosia 2013 Vulkà Bianco  (Etna)</td>\n",
       "      <td>White Blend</td>\n",
       "      <td>Nicosia</td>\n",
       "    </tr>\n",
       "  </tbody>\n",
       "</table>\n",
       "</div>"
      ],
      "text/plain": [
       "  country                                        description   designation  \\\n",
       "0   Italy  Aromas include tropical fruit, broom, brimston...  Vulkà Bianco   \n",
       "\n",
       "   points  price           province region_1 region_2    taster_name  \\\n",
       "0      87    NaN  Sicily & Sardinia     Etna      NaN  Kerin O’Keefe   \n",
       "\n",
       "  taster_twitter_handle                              title      variety  \\\n",
       "0          @kerinokeefe  Nicosia 2013 Vulkà Bianco  (Etna)  White Blend   \n",
       "\n",
       "    winery  \n",
       "0  Nicosia  "
      ]
     },
     "execution_count": 4,
     "metadata": {},
     "output_type": "execute_result"
    }
   ],
   "source": [
    "reviews.head(1)"
   ]
  },
  {
   "cell_type": "code",
   "execution_count": 5,
   "id": "a0f00fa5",
   "metadata": {
    "execution": {
     "iopub.execute_input": "2022-10-18T19:29:21.410548Z",
     "iopub.status.busy": "2022-10-18T19:29:21.409999Z",
     "iopub.status.idle": "2022-10-18T19:29:21.424780Z",
     "shell.execute_reply": "2022-10-18T19:29:21.423635Z"
    },
    "papermill": {
     "duration": 0.025287,
     "end_time": "2022-10-18T19:29:21.427430",
     "exception": false,
     "start_time": "2022-10-18T19:29:21.402143",
     "status": "completed"
    },
    "tags": []
   },
   "outputs": [
    {
     "data": {
      "application/javascript": [
       "parent.postMessage({\"jupyterEvent\": \"custom.exercise_interaction\", \"data\": {\"outcomeType\": 1, \"valueTowardsCompletion\": 0.16666666666666666, \"interactionType\": 1, \"questionType\": 1, \"questionId\": \"2_BestRatingPerPrice\", \"learnToolsVersion\": \"0.3.4\", \"failureMessage\": \"\", \"exceptionClass\": \"\", \"trace\": \"\"}}, \"*\")"
      ],
      "text/plain": [
       "<IPython.core.display.Javascript object>"
      ]
     },
     "metadata": {},
     "output_type": "display_data"
    },
    {
     "data": {
      "text/markdown": [
       "<span style=\"color:#33cc33\">Correct</span>"
      ],
      "text/plain": [
       "Correct"
      ]
     },
     "metadata": {},
     "output_type": "display_data"
    }
   ],
   "source": [
    "best_rating_per_price = reviews.groupby(\"price\").points.max().sort_index()\n",
    "# Check your answer\n",
    "q2.check()"
   ]
  },
  {
   "cell_type": "code",
   "execution_count": 6,
   "id": "4aa41c56",
   "metadata": {
    "execution": {
     "iopub.execute_input": "2022-10-18T19:29:21.443338Z",
     "iopub.status.busy": "2022-10-18T19:29:21.442410Z",
     "iopub.status.idle": "2022-10-18T19:29:21.446355Z",
     "shell.execute_reply": "2022-10-18T19:29:21.445593Z"
    },
    "papermill": {
     "duration": 0.014954,
     "end_time": "2022-10-18T19:29:21.448727",
     "exception": false,
     "start_time": "2022-10-18T19:29:21.433773",
     "status": "completed"
    },
    "tags": []
   },
   "outputs": [],
   "source": [
    "#q2.hint()\n",
    "#q2.solution()"
   ]
  },
  {
   "cell_type": "markdown",
   "id": "52e80980",
   "metadata": {
    "papermill": {
     "duration": 0.006222,
     "end_time": "2022-10-18T19:29:21.461369",
     "exception": false,
     "start_time": "2022-10-18T19:29:21.455147",
     "status": "completed"
    },
    "tags": []
   },
   "source": [
    "## 3.\n",
    "What are the minimum and maximum prices for each `variety` of wine? Create a `DataFrame` whose index is the `variety` category from the dataset and whose values are the `min` and `max` values thereof."
   ]
  },
  {
   "cell_type": "code",
   "execution_count": 7,
   "id": "e42f8fae",
   "metadata": {
    "execution": {
     "iopub.execute_input": "2022-10-18T19:29:21.475885Z",
     "iopub.status.busy": "2022-10-18T19:29:21.475490Z",
     "iopub.status.idle": "2022-10-18T19:29:21.499868Z",
     "shell.execute_reply": "2022-10-18T19:29:21.498944Z"
    },
    "papermill": {
     "duration": 0.034252,
     "end_time": "2022-10-18T19:29:21.501986",
     "exception": false,
     "start_time": "2022-10-18T19:29:21.467734",
     "status": "completed"
    },
    "tags": []
   },
   "outputs": [
    {
     "data": {
      "application/javascript": [
       "parent.postMessage({\"jupyterEvent\": \"custom.exercise_interaction\", \"data\": {\"outcomeType\": 1, \"valueTowardsCompletion\": 0.16666666666666666, \"interactionType\": 1, \"questionType\": 1, \"questionId\": \"3_PriceExtremes\", \"learnToolsVersion\": \"0.3.4\", \"failureMessage\": \"\", \"exceptionClass\": \"\", \"trace\": \"\"}}, \"*\")"
      ],
      "text/plain": [
       "<IPython.core.display.Javascript object>"
      ]
     },
     "metadata": {},
     "output_type": "display_data"
    },
    {
     "data": {
      "text/markdown": [
       "<span style=\"color:#33cc33\">Correct</span>"
      ],
      "text/plain": [
       "Correct"
      ]
     },
     "metadata": {},
     "output_type": "display_data"
    }
   ],
   "source": [
    "price_extremes = reviews.groupby(\"variety\").price.agg([\"min\", \"max\"])\n",
    "# Check your answer\n",
    "q3.check()"
   ]
  },
  {
   "cell_type": "code",
   "execution_count": 8,
   "id": "50442447",
   "metadata": {
    "execution": {
     "iopub.execute_input": "2022-10-18T19:29:21.517741Z",
     "iopub.status.busy": "2022-10-18T19:29:21.516684Z",
     "iopub.status.idle": "2022-10-18T19:29:21.521203Z",
     "shell.execute_reply": "2022-10-18T19:29:21.520340Z"
    },
    "papermill": {
     "duration": 0.014642,
     "end_time": "2022-10-18T19:29:21.523414",
     "exception": false,
     "start_time": "2022-10-18T19:29:21.508772",
     "status": "completed"
    },
    "tags": []
   },
   "outputs": [],
   "source": [
    "# q3.hint()\n",
    "#q3.solution()"
   ]
  },
  {
   "cell_type": "markdown",
   "id": "1a72addf",
   "metadata": {
    "papermill": {
     "duration": 0.006436,
     "end_time": "2022-10-18T19:29:21.536594",
     "exception": false,
     "start_time": "2022-10-18T19:29:21.530158",
     "status": "completed"
    },
    "tags": []
   },
   "source": [
    "## 4.\n",
    "What are the most expensive wine varieties? Create a variable `sorted_varieties` containing a copy of the dataframe from the previous question where varieties are sorted in descending order based on minimum price, then on maximum price (to break ties)."
   ]
  },
  {
   "cell_type": "code",
   "execution_count": 9,
   "id": "24aa9bb1",
   "metadata": {
    "execution": {
     "iopub.execute_input": "2022-10-18T19:29:21.552006Z",
     "iopub.status.busy": "2022-10-18T19:29:21.551617Z",
     "iopub.status.idle": "2022-10-18T19:29:21.563396Z",
     "shell.execute_reply": "2022-10-18T19:29:21.562257Z"
    },
    "papermill": {
     "duration": 0.022549,
     "end_time": "2022-10-18T19:29:21.565709",
     "exception": false,
     "start_time": "2022-10-18T19:29:21.543160",
     "status": "completed"
    },
    "tags": []
   },
   "outputs": [
    {
     "data": {
      "application/javascript": [
       "parent.postMessage({\"jupyterEvent\": \"custom.exercise_interaction\", \"data\": {\"outcomeType\": 1, \"valueTowardsCompletion\": 0.16666666666666666, \"interactionType\": 1, \"questionType\": 1, \"questionId\": \"4_SortedVarieties\", \"learnToolsVersion\": \"0.3.4\", \"failureMessage\": \"\", \"exceptionClass\": \"\", \"trace\": \"\"}}, \"*\")"
      ],
      "text/plain": [
       "<IPython.core.display.Javascript object>"
      ]
     },
     "metadata": {},
     "output_type": "display_data"
    },
    {
     "data": {
      "text/markdown": [
       "<span style=\"color:#33cc33\">Correct</span>"
      ],
      "text/plain": [
       "Correct"
      ]
     },
     "metadata": {},
     "output_type": "display_data"
    }
   ],
   "source": [
    "sorted_varieties = price_extremes.sort_values([\"min\", \"max\"], ascending=False)\n",
    "# Check your answer\n",
    "q4.check()"
   ]
  },
  {
   "cell_type": "code",
   "execution_count": 10,
   "id": "144cf1ee",
   "metadata": {
    "execution": {
     "iopub.execute_input": "2022-10-18T19:29:21.581401Z",
     "iopub.status.busy": "2022-10-18T19:29:21.580974Z",
     "iopub.status.idle": "2022-10-18T19:29:21.585184Z",
     "shell.execute_reply": "2022-10-18T19:29:21.584159Z"
    },
    "papermill": {
     "duration": 0.01469,
     "end_time": "2022-10-18T19:29:21.587391",
     "exception": false,
     "start_time": "2022-10-18T19:29:21.572701",
     "status": "completed"
    },
    "tags": []
   },
   "outputs": [],
   "source": [
    "#q4.hint()\n",
    "#q4.solution()"
   ]
  },
  {
   "cell_type": "markdown",
   "id": "2dbd0409",
   "metadata": {
    "papermill": {
     "duration": 0.006519,
     "end_time": "2022-10-18T19:29:21.600775",
     "exception": false,
     "start_time": "2022-10-18T19:29:21.594256",
     "status": "completed"
    },
    "tags": []
   },
   "source": [
    "## 5.\n",
    "Create a `Series` whose index is reviewers and whose values is the average review score given out by that reviewer. Hint: you will need the `taster_name` and `points` columns."
   ]
  },
  {
   "cell_type": "code",
   "execution_count": 11,
   "id": "abb75e61",
   "metadata": {
    "execution": {
     "iopub.execute_input": "2022-10-18T19:29:21.616924Z",
     "iopub.status.busy": "2022-10-18T19:29:21.616114Z",
     "iopub.status.idle": "2022-10-18T19:29:21.636483Z",
     "shell.execute_reply": "2022-10-18T19:29:21.635696Z"
    },
    "papermill": {
     "duration": 0.030814,
     "end_time": "2022-10-18T19:29:21.638402",
     "exception": false,
     "start_time": "2022-10-18T19:29:21.607588",
     "status": "completed"
    },
    "tags": []
   },
   "outputs": [
    {
     "data": {
      "application/javascript": [
       "parent.postMessage({\"jupyterEvent\": \"custom.exercise_interaction\", \"data\": {\"outcomeType\": 1, \"valueTowardsCompletion\": 0.16666666666666666, \"interactionType\": 1, \"questionType\": 1, \"questionId\": \"5_ReviewerMeanRatings\", \"learnToolsVersion\": \"0.3.4\", \"failureMessage\": \"\", \"exceptionClass\": \"\", \"trace\": \"\"}}, \"*\")"
      ],
      "text/plain": [
       "<IPython.core.display.Javascript object>"
      ]
     },
     "metadata": {},
     "output_type": "display_data"
    },
    {
     "data": {
      "text/markdown": [
       "<span style=\"color:#33cc33\">Correct</span>"
      ],
      "text/plain": [
       "Correct"
      ]
     },
     "metadata": {},
     "output_type": "display_data"
    }
   ],
   "source": [
    "reviewer_mean_ratings = reviews.groupby(\"taster_name\").points.mean()\n",
    "\n",
    "# Check your answer\n",
    "q5.check()"
   ]
  },
  {
   "cell_type": "code",
   "execution_count": 12,
   "id": "26ca5ee3",
   "metadata": {
    "execution": {
     "iopub.execute_input": "2022-10-18T19:29:21.654550Z",
     "iopub.status.busy": "2022-10-18T19:29:21.654121Z",
     "iopub.status.idle": "2022-10-18T19:29:21.657897Z",
     "shell.execute_reply": "2022-10-18T19:29:21.657112Z"
    },
    "papermill": {
     "duration": 0.014284,
     "end_time": "2022-10-18T19:29:21.659851",
     "exception": false,
     "start_time": "2022-10-18T19:29:21.645567",
     "status": "completed"
    },
    "tags": []
   },
   "outputs": [],
   "source": [
    "#q5.hint()\n",
    "#q5.solution()"
   ]
  },
  {
   "cell_type": "markdown",
   "id": "549a4778",
   "metadata": {
    "papermill": {
     "duration": 0.006903,
     "end_time": "2022-10-18T19:29:21.673889",
     "exception": false,
     "start_time": "2022-10-18T19:29:21.666986",
     "status": "completed"
    },
    "tags": []
   },
   "source": [
    "Are there significant differences in the average scores assigned by the various reviewers? Run the cell below to use the `describe()` method to see a summary of the range of values."
   ]
  },
  {
   "cell_type": "code",
   "execution_count": 13,
   "id": "daa69326",
   "metadata": {
    "execution": {
     "iopub.execute_input": "2022-10-18T19:29:21.690255Z",
     "iopub.status.busy": "2022-10-18T19:29:21.689129Z",
     "iopub.status.idle": "2022-10-18T19:29:21.702006Z",
     "shell.execute_reply": "2022-10-18T19:29:21.701029Z"
    },
    "papermill": {
     "duration": 0.023251,
     "end_time": "2022-10-18T19:29:21.704074",
     "exception": false,
     "start_time": "2022-10-18T19:29:21.680823",
     "status": "completed"
    },
    "tags": []
   },
   "outputs": [
    {
     "data": {
      "text/plain": [
       "count    19.000000\n",
       "mean     88.233026\n",
       "std       1.243610\n",
       "min      85.855422\n",
       "25%      87.323501\n",
       "50%      88.536235\n",
       "75%      88.975256\n",
       "max      90.562551\n",
       "Name: points, dtype: float64"
      ]
     },
     "execution_count": 13,
     "metadata": {},
     "output_type": "execute_result"
    }
   ],
   "source": [
    "reviewer_mean_ratings.describe()"
   ]
  },
  {
   "cell_type": "markdown",
   "id": "1545227d",
   "metadata": {
    "papermill": {
     "duration": 0.007105,
     "end_time": "2022-10-18T19:29:21.718667",
     "exception": false,
     "start_time": "2022-10-18T19:29:21.711562",
     "status": "completed"
    },
    "tags": []
   },
   "source": [
    "## 6.\n",
    "What combination of countries and varieties are most common? Create a `Series` whose index is a `MultiIndex`of `{country, variety}` pairs. For example, a pinot noir produced in the US should map to `{\"US\", \"Pinot Noir\"}`. Sort the values in the `Series` in descending order based on wine count."
   ]
  },
  {
   "cell_type": "code",
   "execution_count": 14,
   "id": "f643ba18",
   "metadata": {
    "execution": {
     "iopub.execute_input": "2022-10-18T19:29:21.735017Z",
     "iopub.status.busy": "2022-10-18T19:29:21.734596Z",
     "iopub.status.idle": "2022-10-18T19:29:21.773646Z",
     "shell.execute_reply": "2022-10-18T19:29:21.772912Z"
    },
    "papermill": {
     "duration": 0.049726,
     "end_time": "2022-10-18T19:29:21.775730",
     "exception": false,
     "start_time": "2022-10-18T19:29:21.726004",
     "status": "completed"
    },
    "tags": []
   },
   "outputs": [
    {
     "data": {
      "application/javascript": [
       "parent.postMessage({\"jupyterEvent\": \"custom.exercise_interaction\", \"data\": {\"outcomeType\": 1, \"valueTowardsCompletion\": 0.16666666666666666, \"interactionType\": 1, \"questionType\": 1, \"questionId\": \"6_GroupbyCountryVariety\", \"learnToolsVersion\": \"0.3.4\", \"failureMessage\": \"\", \"exceptionClass\": \"\", \"trace\": \"\"}}, \"*\")"
      ],
      "text/plain": [
       "<IPython.core.display.Javascript object>"
      ]
     },
     "metadata": {},
     "output_type": "display_data"
    },
    {
     "data": {
      "text/markdown": [
       "<span style=\"color:#33cc33\">Correct</span>"
      ],
      "text/plain": [
       "Correct"
      ]
     },
     "metadata": {},
     "output_type": "display_data"
    }
   ],
   "source": [
    "country_variety_counts = reviews.groupby([\"country\", \"variety\"]).variety.count().sort_values(ascending=False)\n",
    "# Check your answer\n",
    "q6.check()"
   ]
  },
  {
   "cell_type": "code",
   "execution_count": 15,
   "id": "fb69cd01",
   "metadata": {
    "execution": {
     "iopub.execute_input": "2022-10-18T19:29:21.793199Z",
     "iopub.status.busy": "2022-10-18T19:29:21.792436Z",
     "iopub.status.idle": "2022-10-18T19:29:21.796929Z",
     "shell.execute_reply": "2022-10-18T19:29:21.795910Z"
    },
    "papermill": {
     "duration": 0.015559,
     "end_time": "2022-10-18T19:29:21.799022",
     "exception": false,
     "start_time": "2022-10-18T19:29:21.783463",
     "status": "completed"
    },
    "tags": []
   },
   "outputs": [],
   "source": [
    "#q6.hint()\n",
    "#q6.solution()"
   ]
  },
  {
   "cell_type": "markdown",
   "id": "bfaf2fc0",
   "metadata": {
    "papermill": {
     "duration": 0.007356,
     "end_time": "2022-10-18T19:29:21.814173",
     "exception": false,
     "start_time": "2022-10-18T19:29:21.806817",
     "status": "completed"
    },
    "tags": []
   },
   "source": [
    "# Keep going\n",
    "\n",
    "Move on to the [**data types and missing data**](https://www.kaggle.com/residentmario/data-types-and-missing-values)."
   ]
  },
  {
   "cell_type": "markdown",
   "id": "6463a1f9",
   "metadata": {
    "papermill": {
     "duration": 0.007226,
     "end_time": "2022-10-18T19:29:21.828965",
     "exception": false,
     "start_time": "2022-10-18T19:29:21.821739",
     "status": "completed"
    },
    "tags": []
   },
   "source": [
    "---\n",
    "\n",
    "\n",
    "\n",
    "\n",
    "*Have questions or comments? Visit the [course discussion forum](https://www.kaggle.com/learn/pandas/discussion) to chat with other learners.*"
   ]
  }
 ],
 "metadata": {
  "kernelspec": {
   "display_name": "Python 3",
   "language": "python",
   "name": "python3"
  },
  "language_info": {
   "codemirror_mode": {
    "name": "ipython",
    "version": 3
   },
   "file_extension": ".py",
   "mimetype": "text/x-python",
   "name": "python",
   "nbconvert_exporter": "python",
   "pygments_lexer": "ipython3",
   "version": "3.7.12"
  },
  "papermill": {
   "default_parameters": {},
   "duration": 13.293089,
   "end_time": "2022-10-18T19:29:22.558144",
   "environment_variables": {},
   "exception": null,
   "input_path": "__notebook__.ipynb",
   "output_path": "__notebook__.ipynb",
   "parameters": {},
   "start_time": "2022-10-18T19:29:09.265055",
   "version": "2.3.4"
  }
 },
 "nbformat": 4,
 "nbformat_minor": 5
}
