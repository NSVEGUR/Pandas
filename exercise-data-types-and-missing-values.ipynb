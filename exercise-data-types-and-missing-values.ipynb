{
 "cells": [
  {
   "cell_type": "markdown",
   "id": "5000f4e3",
   "metadata": {
    "papermill": {
     "duration": 0.005358,
     "end_time": "2022-10-18T19:46:41.858302",
     "exception": false,
     "start_time": "2022-10-18T19:46:41.852944",
     "status": "completed"
    },
    "tags": []
   },
   "source": [
    "**This notebook is an exercise in the [Pandas](https://www.kaggle.com/learn/pandas) course.  You can reference the tutorial at [this link](https://www.kaggle.com/residentmario/data-types-and-missing-values).**\n",
    "\n",
    "---\n"
   ]
  },
  {
   "cell_type": "markdown",
   "id": "873e9017",
   "metadata": {
    "papermill": {
     "duration": 0.004366,
     "end_time": "2022-10-18T19:46:41.867071",
     "exception": false,
     "start_time": "2022-10-18T19:46:41.862705",
     "status": "completed"
    },
    "tags": []
   },
   "source": [
    "# Introduction\n",
    "\n",
    "Run the following cell to load your data and some utility functions."
   ]
  },
  {
   "cell_type": "code",
   "execution_count": 1,
   "id": "2f350b20",
   "metadata": {
    "execution": {
     "iopub.execute_input": "2022-10-18T19:46:41.877928Z",
     "iopub.status.busy": "2022-10-18T19:46:41.877176Z",
     "iopub.status.idle": "2022-10-18T19:46:44.785644Z",
     "shell.execute_reply": "2022-10-18T19:46:44.784188Z"
    },
    "papermill": {
     "duration": 2.917252,
     "end_time": "2022-10-18T19:46:44.788728",
     "exception": false,
     "start_time": "2022-10-18T19:46:41.871476",
     "status": "completed"
    },
    "tags": []
   },
   "outputs": [
    {
     "name": "stdout",
     "output_type": "stream",
     "text": [
      "Setup complete.\n"
     ]
    }
   ],
   "source": [
    "import pandas as pd\n",
    "\n",
    "reviews = pd.read_csv(\"../input/wine-reviews/winemag-data-130k-v2.csv\", index_col=0)\n",
    "\n",
    "from learntools.core import binder; binder.bind(globals())\n",
    "from learntools.pandas.data_types_and_missing_data import *\n",
    "print(\"Setup complete.\")"
   ]
  },
  {
   "cell_type": "markdown",
   "id": "350087c3",
   "metadata": {
    "papermill": {
     "duration": 0.003945,
     "end_time": "2022-10-18T19:46:44.797152",
     "exception": false,
     "start_time": "2022-10-18T19:46:44.793207",
     "status": "completed"
    },
    "tags": []
   },
   "source": [
    "# Exercises"
   ]
  },
  {
   "cell_type": "markdown",
   "id": "1c808a50",
   "metadata": {
    "papermill": {
     "duration": 0.003836,
     "end_time": "2022-10-18T19:46:44.805193",
     "exception": false,
     "start_time": "2022-10-18T19:46:44.801357",
     "status": "completed"
    },
    "tags": []
   },
   "source": [
    "## 1. \n",
    "What is the data type of the `points` column in the dataset?"
   ]
  },
  {
   "cell_type": "code",
   "execution_count": 2,
   "id": "79b92c11",
   "metadata": {
    "execution": {
     "iopub.execute_input": "2022-10-18T19:46:44.815373Z",
     "iopub.status.busy": "2022-10-18T19:46:44.814640Z",
     "iopub.status.idle": "2022-10-18T19:46:44.827182Z",
     "shell.execute_reply": "2022-10-18T19:46:44.825902Z"
    },
    "papermill": {
     "duration": 0.020599,
     "end_time": "2022-10-18T19:46:44.829857",
     "exception": false,
     "start_time": "2022-10-18T19:46:44.809258",
     "status": "completed"
    },
    "tags": []
   },
   "outputs": [
    {
     "data": {
      "application/javascript": [
       "parent.postMessage({\"jupyterEvent\": \"custom.exercise_interaction\", \"data\": {\"outcomeType\": 1, \"valueTowardsCompletion\": 0.25, \"interactionType\": 1, \"questionType\": 1, \"questionId\": \"1_PointsDtype\", \"learnToolsVersion\": \"0.3.4\", \"failureMessage\": \"\", \"exceptionClass\": \"\", \"trace\": \"\"}}, \"*\")"
      ],
      "text/plain": [
       "<IPython.core.display.Javascript object>"
      ]
     },
     "metadata": {},
     "output_type": "display_data"
    },
    {
     "data": {
      "text/markdown": [
       "<span style=\"color:#33cc33\">Correct</span>"
      ],
      "text/plain": [
       "Correct"
      ]
     },
     "metadata": {},
     "output_type": "display_data"
    }
   ],
   "source": [
    "# Your code here\n",
    "dtype = reviews.points.dtype\n",
    "\n",
    "# Check your answer\n",
    "q1.check()"
   ]
  },
  {
   "cell_type": "code",
   "execution_count": 3,
   "id": "0f22f1c2",
   "metadata": {
    "execution": {
     "iopub.execute_input": "2022-10-18T19:46:44.841378Z",
     "iopub.status.busy": "2022-10-18T19:46:44.840445Z",
     "iopub.status.idle": "2022-10-18T19:46:44.844947Z",
     "shell.execute_reply": "2022-10-18T19:46:44.843811Z"
    },
    "papermill": {
     "duration": 0.012771,
     "end_time": "2022-10-18T19:46:44.847375",
     "exception": false,
     "start_time": "2022-10-18T19:46:44.834604",
     "status": "completed"
    },
    "tags": []
   },
   "outputs": [],
   "source": [
    "#q1.hint()\n",
    "#q1.solution()"
   ]
  },
  {
   "cell_type": "markdown",
   "id": "092de9e8",
   "metadata": {
    "papermill": {
     "duration": 0.004644,
     "end_time": "2022-10-18T19:46:44.857031",
     "exception": false,
     "start_time": "2022-10-18T19:46:44.852387",
     "status": "completed"
    },
    "tags": []
   },
   "source": [
    "## 2. \n",
    "Create a Series from entries in the `points` column, but convert the entries to strings. Hint: strings are `str` in native Python."
   ]
  },
  {
   "cell_type": "code",
   "execution_count": 4,
   "id": "44627877",
   "metadata": {
    "execution": {
     "iopub.execute_input": "2022-10-18T19:46:44.868132Z",
     "iopub.status.busy": "2022-10-18T19:46:44.867738Z",
     "iopub.status.idle": "2022-10-18T19:46:44.948938Z",
     "shell.execute_reply": "2022-10-18T19:46:44.947869Z"
    },
    "papermill": {
     "duration": 0.089415,
     "end_time": "2022-10-18T19:46:44.951278",
     "exception": false,
     "start_time": "2022-10-18T19:46:44.861863",
     "status": "completed"
    },
    "tags": []
   },
   "outputs": [
    {
     "data": {
      "application/javascript": [
       "parent.postMessage({\"jupyterEvent\": \"custom.exercise_interaction\", \"data\": {\"outcomeType\": 1, \"valueTowardsCompletion\": 0.25, \"interactionType\": 1, \"questionType\": 1, \"questionId\": \"2_StrPoints\", \"learnToolsVersion\": \"0.3.4\", \"failureMessage\": \"\", \"exceptionClass\": \"\", \"trace\": \"\"}}, \"*\")"
      ],
      "text/plain": [
       "<IPython.core.display.Javascript object>"
      ]
     },
     "metadata": {},
     "output_type": "display_data"
    },
    {
     "data": {
      "text/markdown": [
       "<span style=\"color:#33cc33\">Correct</span>"
      ],
      "text/plain": [
       "Correct"
      ]
     },
     "metadata": {},
     "output_type": "display_data"
    }
   ],
   "source": [
    "point_strings = reviews.points.astype('str')\n",
    "\n",
    "# Check your answer\n",
    "q2.check()"
   ]
  },
  {
   "cell_type": "code",
   "execution_count": 5,
   "id": "4a9927b3",
   "metadata": {
    "execution": {
     "iopub.execute_input": "2022-10-18T19:46:44.963026Z",
     "iopub.status.busy": "2022-10-18T19:46:44.962203Z",
     "iopub.status.idle": "2022-10-18T19:46:44.966893Z",
     "shell.execute_reply": "2022-10-18T19:46:44.965934Z"
    },
    "papermill": {
     "duration": 0.012926,
     "end_time": "2022-10-18T19:46:44.969146",
     "exception": false,
     "start_time": "2022-10-18T19:46:44.956220",
     "status": "completed"
    },
    "tags": []
   },
   "outputs": [],
   "source": [
    "#q2.hint()\n",
    "#q2.solution()"
   ]
  },
  {
   "cell_type": "markdown",
   "id": "7f2b891b",
   "metadata": {
    "papermill": {
     "duration": 0.0046,
     "end_time": "2022-10-18T19:46:44.978745",
     "exception": false,
     "start_time": "2022-10-18T19:46:44.974145",
     "status": "completed"
    },
    "tags": []
   },
   "source": [
    "## 3.\n",
    "Sometimes the price column is null. How many reviews in the dataset are missing a price?"
   ]
  },
  {
   "cell_type": "code",
   "execution_count": 6,
   "id": "a2e5d944",
   "metadata": {
    "execution": {
     "iopub.execute_input": "2022-10-18T19:46:44.990001Z",
     "iopub.status.busy": "2022-10-18T19:46:44.989606Z",
     "iopub.status.idle": "2022-10-18T19:46:45.006746Z",
     "shell.execute_reply": "2022-10-18T19:46:45.005704Z"
    },
    "papermill": {
     "duration": 0.025652,
     "end_time": "2022-10-18T19:46:45.009172",
     "exception": false,
     "start_time": "2022-10-18T19:46:44.983520",
     "status": "completed"
    },
    "tags": []
   },
   "outputs": [
    {
     "data": {
      "application/javascript": [
       "parent.postMessage({\"jupyterEvent\": \"custom.exercise_interaction\", \"data\": {\"outcomeType\": 1, \"valueTowardsCompletion\": 0.25, \"interactionType\": 1, \"questionType\": 1, \"questionId\": \"3_CountMissingPrices\", \"learnToolsVersion\": \"0.3.4\", \"failureMessage\": \"\", \"exceptionClass\": \"\", \"trace\": \"\"}}, \"*\")"
      ],
      "text/plain": [
       "<IPython.core.display.Javascript object>"
      ]
     },
     "metadata": {},
     "output_type": "display_data"
    },
    {
     "data": {
      "text/markdown": [
       "<span style=\"color:#33cc33\">Correct</span>"
      ],
      "text/plain": [
       "Correct"
      ]
     },
     "metadata": {},
     "output_type": "display_data"
    }
   ],
   "source": [
    "n_missing_prices = reviews[pd.isnull(reviews.price)].price.size\n",
    "# Check your answer\n",
    "q3.check()"
   ]
  },
  {
   "cell_type": "code",
   "execution_count": 7,
   "id": "e8bccf84",
   "metadata": {
    "execution": {
     "iopub.execute_input": "2022-10-18T19:46:45.020994Z",
     "iopub.status.busy": "2022-10-18T19:46:45.020579Z",
     "iopub.status.idle": "2022-10-18T19:46:45.024955Z",
     "shell.execute_reply": "2022-10-18T19:46:45.023891Z"
    },
    "papermill": {
     "duration": 0.012838,
     "end_time": "2022-10-18T19:46:45.027176",
     "exception": false,
     "start_time": "2022-10-18T19:46:45.014338",
     "status": "completed"
    },
    "tags": []
   },
   "outputs": [],
   "source": [
    "#q3.hint()\n",
    "# q3.solution()"
   ]
  },
  {
   "cell_type": "markdown",
   "id": "a4c4d199",
   "metadata": {
    "papermill": {
     "duration": 0.004835,
     "end_time": "2022-10-18T19:46:45.037049",
     "exception": false,
     "start_time": "2022-10-18T19:46:45.032214",
     "status": "completed"
    },
    "tags": []
   },
   "source": [
    "## 4.\n",
    "What are the most common wine-producing regions? Create a Series counting the number of times each value occurs in the `region_1` field. This field is often missing data, so replace missing values with `Unknown`. Sort in descending order.  Your output should look something like this:\n",
    "\n",
    "```\n",
    "Unknown                    21247\n",
    "Napa Valley                 4480\n",
    "                           ...  \n",
    "Bardolino Superiore            1\n",
    "Primitivo del Tarantino        1\n",
    "Name: region_1, Length: 1230, dtype: int64\n",
    "```"
   ]
  },
  {
   "cell_type": "code",
   "execution_count": 8,
   "id": "5a256f1e",
   "metadata": {
    "execution": {
     "iopub.execute_input": "2022-10-18T19:46:45.049889Z",
     "iopub.status.busy": "2022-10-18T19:46:45.049502Z",
     "iopub.status.idle": "2022-10-18T19:46:45.093664Z",
     "shell.execute_reply": "2022-10-18T19:46:45.091992Z"
    },
    "papermill": {
     "duration": 0.053968,
     "end_time": "2022-10-18T19:46:45.095954",
     "exception": false,
     "start_time": "2022-10-18T19:46:45.041986",
     "status": "completed"
    },
    "tags": []
   },
   "outputs": [
    {
     "data": {
      "application/javascript": [
       "parent.postMessage({\"jupyterEvent\": \"custom.exercise_interaction\", \"data\": {\"outcomeType\": 1, \"valueTowardsCompletion\": 0.25, \"interactionType\": 1, \"questionType\": 2, \"questionId\": \"4_ReviewsPerRegion\", \"learnToolsVersion\": \"0.3.4\", \"failureMessage\": \"\", \"exceptionClass\": \"\", \"trace\": \"\"}}, \"*\")"
      ],
      "text/plain": [
       "<IPython.core.display.Javascript object>"
      ]
     },
     "metadata": {},
     "output_type": "display_data"
    },
    {
     "data": {
      "text/markdown": [
       "<span style=\"color:#33cc33\">Correct</span>"
      ],
      "text/plain": [
       "Correct"
      ]
     },
     "metadata": {},
     "output_type": "display_data"
    }
   ],
   "source": [
    "reviews_per_region = reviews.region_1.fillna('unknown').value_counts().sort_values(ascending=False)\n",
    "# Check your answer\n",
    "q4.check()"
   ]
  },
  {
   "cell_type": "code",
   "execution_count": 9,
   "id": "e49a8d9c",
   "metadata": {
    "execution": {
     "iopub.execute_input": "2022-10-18T19:46:45.108855Z",
     "iopub.status.busy": "2022-10-18T19:46:45.108090Z",
     "iopub.status.idle": "2022-10-18T19:46:45.112067Z",
     "shell.execute_reply": "2022-10-18T19:46:45.111331Z"
    },
    "papermill": {
     "duration": 0.012625,
     "end_time": "2022-10-18T19:46:45.113995",
     "exception": false,
     "start_time": "2022-10-18T19:46:45.101370",
     "status": "completed"
    },
    "tags": []
   },
   "outputs": [],
   "source": [
    "#q4.hint()\n",
    "# q4.solution()"
   ]
  },
  {
   "cell_type": "markdown",
   "id": "c072f065",
   "metadata": {
    "papermill": {
     "duration": 0.00508,
     "end_time": "2022-10-18T19:46:45.124444",
     "exception": false,
     "start_time": "2022-10-18T19:46:45.119364",
     "status": "completed"
    },
    "tags": []
   },
   "source": [
    "# Keep going\n",
    "\n",
    "Move on to **[renaming and combining](https://www.kaggle.com/residentmario/renaming-and-combining)**."
   ]
  },
  {
   "cell_type": "markdown",
   "id": "fd91d85d",
   "metadata": {
    "papermill": {
     "duration": 0.00529,
     "end_time": "2022-10-18T19:46:45.135641",
     "exception": false,
     "start_time": "2022-10-18T19:46:45.130351",
     "status": "completed"
    },
    "tags": []
   },
   "source": [
    "---\n",
    "\n",
    "\n",
    "\n",
    "\n",
    "*Have questions or comments? Visit the [course discussion forum](https://www.kaggle.com/learn/pandas/discussion) to chat with other learners.*"
   ]
  }
 ],
 "metadata": {
  "kernelspec": {
   "display_name": "Python 3",
   "language": "python",
   "name": "python3"
  },
  "language_info": {
   "codemirror_mode": {
    "name": "ipython",
    "version": 3
   },
   "file_extension": ".py",
   "mimetype": "text/x-python",
   "name": "python",
   "nbconvert_exporter": "python",
   "pygments_lexer": "ipython3",
   "version": "3.7.12"
  },
  "papermill": {
   "default_parameters": {},
   "duration": 12.788646,
   "end_time": "2022-10-18T19:46:45.863042",
   "environment_variables": {},
   "exception": null,
   "input_path": "__notebook__.ipynb",
   "output_path": "__notebook__.ipynb",
   "parameters": {},
   "start_time": "2022-10-18T19:46:33.074396",
   "version": "2.3.4"
  }
 },
 "nbformat": 4,
 "nbformat_minor": 5
}
