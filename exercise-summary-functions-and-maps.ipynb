{
 "cells": [
  {
   "cell_type": "markdown",
   "id": "a754d4d8",
   "metadata": {
    "papermill": {
     "duration": 0.007893,
     "end_time": "2022-10-18T07:48:52.298248",
     "exception": false,
     "start_time": "2022-10-18T07:48:52.290355",
     "status": "completed"
    },
    "tags": []
   },
   "source": [
    "**This notebook is an exercise in the [Pandas](https://www.kaggle.com/learn/pandas) course.  You can reference the tutorial at [this link](https://www.kaggle.com/residentmario/summary-functions-and-maps).**\n",
    "\n",
    "---\n"
   ]
  },
  {
   "cell_type": "markdown",
   "id": "061e6870",
   "metadata": {
    "papermill": {
     "duration": 0.005624,
     "end_time": "2022-10-18T07:48:52.310267",
     "exception": false,
     "start_time": "2022-10-18T07:48:52.304643",
     "status": "completed"
    },
    "tags": []
   },
   "source": [
    "# Introduction\n",
    "\n",
    "Now you are ready to get a deeper understanding of your data.\n",
    "\n",
    "Run the following cell to load your data and some utility functions (including code to check your answers)."
   ]
  },
  {
   "cell_type": "code",
   "execution_count": 1,
   "id": "a225910e",
   "metadata": {
    "execution": {
     "iopub.execute_input": "2022-10-18T07:48:52.325237Z",
     "iopub.status.busy": "2022-10-18T07:48:52.324221Z",
     "iopub.status.idle": "2022-10-18T07:48:59.172807Z",
     "shell.execute_reply": "2022-10-18T07:48:59.171555Z"
    },
    "papermill": {
     "duration": 6.859549,
     "end_time": "2022-10-18T07:48:59.175893",
     "exception": false,
     "start_time": "2022-10-18T07:48:52.316344",
     "status": "completed"
    },
    "tags": []
   },
   "outputs": [
    {
     "name": "stdout",
     "output_type": "stream",
     "text": [
      "Setup complete.\n"
     ]
    },
    {
     "data": {
      "text/html": [
       "<div>\n",
       "<style scoped>\n",
       "    .dataframe tbody tr th:only-of-type {\n",
       "        vertical-align: middle;\n",
       "    }\n",
       "\n",
       "    .dataframe tbody tr th {\n",
       "        vertical-align: top;\n",
       "    }\n",
       "\n",
       "    .dataframe thead th {\n",
       "        text-align: right;\n",
       "    }\n",
       "</style>\n",
       "<table border=\"1\" class=\"dataframe\">\n",
       "  <thead>\n",
       "    <tr style=\"text-align: right;\">\n",
       "      <th></th>\n",
       "      <th>country</th>\n",
       "      <th>description</th>\n",
       "      <th>designation</th>\n",
       "      <th>points</th>\n",
       "      <th>price</th>\n",
       "      <th>province</th>\n",
       "      <th>region_1</th>\n",
       "      <th>region_2</th>\n",
       "      <th>taster_name</th>\n",
       "      <th>taster_twitter_handle</th>\n",
       "      <th>title</th>\n",
       "      <th>variety</th>\n",
       "      <th>winery</th>\n",
       "    </tr>\n",
       "  </thead>\n",
       "  <tbody>\n",
       "    <tr>\n",
       "      <th>0</th>\n",
       "      <td>Italy</td>\n",
       "      <td>Aromas include tropical fruit, broom, brimston...</td>\n",
       "      <td>Vulkà Bianco</td>\n",
       "      <td>87</td>\n",
       "      <td>NaN</td>\n",
       "      <td>Sicily &amp; Sardinia</td>\n",
       "      <td>Etna</td>\n",
       "      <td>NaN</td>\n",
       "      <td>Kerin O’Keefe</td>\n",
       "      <td>@kerinokeefe</td>\n",
       "      <td>Nicosia 2013 Vulkà Bianco  (Etna)</td>\n",
       "      <td>White Blend</td>\n",
       "      <td>Nicosia</td>\n",
       "    </tr>\n",
       "    <tr>\n",
       "      <th>1</th>\n",
       "      <td>Portugal</td>\n",
       "      <td>This is ripe and fruity, a wine that is smooth...</td>\n",
       "      <td>Avidagos</td>\n",
       "      <td>87</td>\n",
       "      <td>15.0</td>\n",
       "      <td>Douro</td>\n",
       "      <td>NaN</td>\n",
       "      <td>NaN</td>\n",
       "      <td>Roger Voss</td>\n",
       "      <td>@vossroger</td>\n",
       "      <td>Quinta dos Avidagos 2011 Avidagos Red (Douro)</td>\n",
       "      <td>Portuguese Red</td>\n",
       "      <td>Quinta dos Avidagos</td>\n",
       "    </tr>\n",
       "    <tr>\n",
       "      <th>2</th>\n",
       "      <td>US</td>\n",
       "      <td>Tart and snappy, the flavors of lime flesh and...</td>\n",
       "      <td>NaN</td>\n",
       "      <td>87</td>\n",
       "      <td>14.0</td>\n",
       "      <td>Oregon</td>\n",
       "      <td>Willamette Valley</td>\n",
       "      <td>Willamette Valley</td>\n",
       "      <td>Paul Gregutt</td>\n",
       "      <td>@paulgwine</td>\n",
       "      <td>Rainstorm 2013 Pinot Gris (Willamette Valley)</td>\n",
       "      <td>Pinot Gris</td>\n",
       "      <td>Rainstorm</td>\n",
       "    </tr>\n",
       "    <tr>\n",
       "      <th>3</th>\n",
       "      <td>US</td>\n",
       "      <td>Pineapple rind, lemon pith and orange blossom ...</td>\n",
       "      <td>Reserve Late Harvest</td>\n",
       "      <td>87</td>\n",
       "      <td>13.0</td>\n",
       "      <td>Michigan</td>\n",
       "      <td>Lake Michigan Shore</td>\n",
       "      <td>NaN</td>\n",
       "      <td>Alexander Peartree</td>\n",
       "      <td>NaN</td>\n",
       "      <td>St. Julian 2013 Reserve Late Harvest Riesling ...</td>\n",
       "      <td>Riesling</td>\n",
       "      <td>St. Julian</td>\n",
       "    </tr>\n",
       "    <tr>\n",
       "      <th>4</th>\n",
       "      <td>US</td>\n",
       "      <td>Much like the regular bottling from 2012, this...</td>\n",
       "      <td>Vintner's Reserve Wild Child Block</td>\n",
       "      <td>87</td>\n",
       "      <td>65.0</td>\n",
       "      <td>Oregon</td>\n",
       "      <td>Willamette Valley</td>\n",
       "      <td>Willamette Valley</td>\n",
       "      <td>Paul Gregutt</td>\n",
       "      <td>@paulgwine</td>\n",
       "      <td>Sweet Cheeks 2012 Vintner's Reserve Wild Child...</td>\n",
       "      <td>Pinot Noir</td>\n",
       "      <td>Sweet Cheeks</td>\n",
       "    </tr>\n",
       "  </tbody>\n",
       "</table>\n",
       "</div>"
      ],
      "text/plain": [
       "    country                                        description  \\\n",
       "0     Italy  Aromas include tropical fruit, broom, brimston...   \n",
       "1  Portugal  This is ripe and fruity, a wine that is smooth...   \n",
       "2        US  Tart and snappy, the flavors of lime flesh and...   \n",
       "3        US  Pineapple rind, lemon pith and orange blossom ...   \n",
       "4        US  Much like the regular bottling from 2012, this...   \n",
       "\n",
       "                          designation  points  price           province  \\\n",
       "0                        Vulkà Bianco      87    NaN  Sicily & Sardinia   \n",
       "1                            Avidagos      87   15.0              Douro   \n",
       "2                                 NaN      87   14.0             Oregon   \n",
       "3                Reserve Late Harvest      87   13.0           Michigan   \n",
       "4  Vintner's Reserve Wild Child Block      87   65.0             Oregon   \n",
       "\n",
       "              region_1           region_2         taster_name  \\\n",
       "0                 Etna                NaN       Kerin O’Keefe   \n",
       "1                  NaN                NaN          Roger Voss   \n",
       "2    Willamette Valley  Willamette Valley        Paul Gregutt   \n",
       "3  Lake Michigan Shore                NaN  Alexander Peartree   \n",
       "4    Willamette Valley  Willamette Valley        Paul Gregutt   \n",
       "\n",
       "  taster_twitter_handle                                              title  \\\n",
       "0          @kerinokeefe                  Nicosia 2013 Vulkà Bianco  (Etna)   \n",
       "1            @vossroger      Quinta dos Avidagos 2011 Avidagos Red (Douro)   \n",
       "2           @paulgwine       Rainstorm 2013 Pinot Gris (Willamette Valley)   \n",
       "3                   NaN  St. Julian 2013 Reserve Late Harvest Riesling ...   \n",
       "4           @paulgwine   Sweet Cheeks 2012 Vintner's Reserve Wild Child...   \n",
       "\n",
       "          variety               winery  \n",
       "0     White Blend              Nicosia  \n",
       "1  Portuguese Red  Quinta dos Avidagos  \n",
       "2      Pinot Gris            Rainstorm  \n",
       "3        Riesling           St. Julian  \n",
       "4      Pinot Noir         Sweet Cheeks  "
      ]
     },
     "execution_count": 1,
     "metadata": {},
     "output_type": "execute_result"
    }
   ],
   "source": [
    "import pandas as pd\n",
    "pd.set_option(\"display.max_rows\", 5)\n",
    "reviews = pd.read_csv(\"../input/wine-reviews/winemag-data-130k-v2.csv\", index_col=0)\n",
    "\n",
    "from learntools.core import binder; binder.bind(globals())\n",
    "from learntools.pandas.summary_functions_and_maps import *\n",
    "print(\"Setup complete.\")\n",
    "\n",
    "reviews.head()"
   ]
  },
  {
   "cell_type": "markdown",
   "id": "ff8b486e",
   "metadata": {
    "papermill": {
     "duration": 0.005661,
     "end_time": "2022-10-18T07:48:59.188303",
     "exception": false,
     "start_time": "2022-10-18T07:48:59.182642",
     "status": "completed"
    },
    "tags": []
   },
   "source": [
    "# Exercises"
   ]
  },
  {
   "cell_type": "markdown",
   "id": "3df01e6f",
   "metadata": {
    "papermill": {
     "duration": 0.005679,
     "end_time": "2022-10-18T07:48:59.199848",
     "exception": false,
     "start_time": "2022-10-18T07:48:59.194169",
     "status": "completed"
    },
    "tags": []
   },
   "source": [
    "## 1.\n",
    "\n",
    "What is the median of the `points` column in the `reviews` DataFrame?"
   ]
  },
  {
   "cell_type": "code",
   "execution_count": 2,
   "id": "e362f13f",
   "metadata": {
    "execution": {
     "iopub.execute_input": "2022-10-18T07:48:59.213803Z",
     "iopub.status.busy": "2022-10-18T07:48:59.213289Z",
     "iopub.status.idle": "2022-10-18T07:48:59.223564Z",
     "shell.execute_reply": "2022-10-18T07:48:59.222664Z"
    },
    "papermill": {
     "duration": 0.019838,
     "end_time": "2022-10-18T07:48:59.225631",
     "exception": false,
     "start_time": "2022-10-18T07:48:59.205793",
     "status": "completed"
    },
    "tags": []
   },
   "outputs": [
    {
     "data": {
      "application/javascript": [
       "parent.postMessage({\"jupyterEvent\": \"custom.exercise_interaction\", \"data\": {\"outcomeType\": 1, \"valueTowardsCompletion\": 0.14285714285714285, \"interactionType\": 1, \"questionType\": 1, \"questionId\": \"1_MedianPoints\", \"learnToolsVersion\": \"0.3.4\", \"failureMessage\": \"\", \"exceptionClass\": \"\", \"trace\": \"\"}}, \"*\")"
      ],
      "text/plain": [
       "<IPython.core.display.Javascript object>"
      ]
     },
     "metadata": {},
     "output_type": "display_data"
    },
    {
     "data": {
      "text/markdown": [
       "<span style=\"color:#33cc33\">Correct</span>"
      ],
      "text/plain": [
       "Correct"
      ]
     },
     "metadata": {},
     "output_type": "display_data"
    }
   ],
   "source": [
    "median_points = reviews.points.median()\n",
    "\n",
    "# Check your answer\n",
    "q1.check()"
   ]
  },
  {
   "cell_type": "code",
   "execution_count": 3,
   "id": "f3d2b804",
   "metadata": {
    "execution": {
     "iopub.execute_input": "2022-10-18T07:48:59.240210Z",
     "iopub.status.busy": "2022-10-18T07:48:59.239361Z",
     "iopub.status.idle": "2022-10-18T07:48:59.243679Z",
     "shell.execute_reply": "2022-10-18T07:48:59.242826Z"
    },
    "papermill": {
     "duration": 0.013739,
     "end_time": "2022-10-18T07:48:59.245680",
     "exception": false,
     "start_time": "2022-10-18T07:48:59.231941",
     "status": "completed"
    },
    "tags": []
   },
   "outputs": [],
   "source": [
    "#q1.hint()\n",
    "#q1.solution()"
   ]
  },
  {
   "cell_type": "markdown",
   "id": "4215a2b4",
   "metadata": {
    "papermill": {
     "duration": 0.005977,
     "end_time": "2022-10-18T07:48:59.257978",
     "exception": false,
     "start_time": "2022-10-18T07:48:59.252001",
     "status": "completed"
    },
    "tags": []
   },
   "source": [
    "## 2. \n",
    "What countries are represented in the dataset? (Your answer should not include any duplicates.)"
   ]
  },
  {
   "cell_type": "code",
   "execution_count": 4,
   "id": "335f1527",
   "metadata": {
    "execution": {
     "iopub.execute_input": "2022-10-18T07:48:59.272654Z",
     "iopub.status.busy": "2022-10-18T07:48:59.271568Z",
     "iopub.status.idle": "2022-10-18T07:48:59.288460Z",
     "shell.execute_reply": "2022-10-18T07:48:59.287352Z"
    },
    "papermill": {
     "duration": 0.026781,
     "end_time": "2022-10-18T07:48:59.290924",
     "exception": false,
     "start_time": "2022-10-18T07:48:59.264143",
     "status": "completed"
    },
    "tags": []
   },
   "outputs": [
    {
     "data": {
      "application/javascript": [
       "parent.postMessage({\"jupyterEvent\": \"custom.exercise_interaction\", \"data\": {\"outcomeType\": 1, \"valueTowardsCompletion\": 0.14285714285714285, \"interactionType\": 1, \"questionType\": 2, \"questionId\": \"2_UniqueCountries\", \"learnToolsVersion\": \"0.3.4\", \"failureMessage\": \"\", \"exceptionClass\": \"\", \"trace\": \"\"}}, \"*\")"
      ],
      "text/plain": [
       "<IPython.core.display.Javascript object>"
      ]
     },
     "metadata": {},
     "output_type": "display_data"
    },
    {
     "data": {
      "text/markdown": [
       "<span style=\"color:#33cc33\">Correct</span>"
      ],
      "text/plain": [
       "Correct"
      ]
     },
     "metadata": {},
     "output_type": "display_data"
    }
   ],
   "source": [
    "countries = reviews.country.unique()\n",
    "\n",
    "# Check your answer\n",
    "q2.check()"
   ]
  },
  {
   "cell_type": "code",
   "execution_count": 5,
   "id": "0bfb511a",
   "metadata": {
    "execution": {
     "iopub.execute_input": "2022-10-18T07:48:59.306219Z",
     "iopub.status.busy": "2022-10-18T07:48:59.305554Z",
     "iopub.status.idle": "2022-10-18T07:48:59.310649Z",
     "shell.execute_reply": "2022-10-18T07:48:59.309495Z"
    },
    "papermill": {
     "duration": 0.015204,
     "end_time": "2022-10-18T07:48:59.312843",
     "exception": false,
     "start_time": "2022-10-18T07:48:59.297639",
     "status": "completed"
    },
    "tags": []
   },
   "outputs": [],
   "source": [
    "#q2.hint()\n",
    "#q2.solution()"
   ]
  },
  {
   "cell_type": "markdown",
   "id": "5e863958",
   "metadata": {
    "papermill": {
     "duration": 0.006313,
     "end_time": "2022-10-18T07:48:59.325896",
     "exception": false,
     "start_time": "2022-10-18T07:48:59.319583",
     "status": "completed"
    },
    "tags": []
   },
   "source": [
    "## 3.\n",
    "How often does each country appear in the dataset? Create a Series `reviews_per_country` mapping countries to the count of reviews of wines from that country."
   ]
  },
  {
   "cell_type": "code",
   "execution_count": 6,
   "id": "f3d5b5f9",
   "metadata": {
    "execution": {
     "iopub.execute_input": "2022-10-18T07:48:59.342115Z",
     "iopub.status.busy": "2022-10-18T07:48:59.341671Z",
     "iopub.status.idle": "2022-10-18T07:48:59.357999Z",
     "shell.execute_reply": "2022-10-18T07:48:59.357215Z"
    },
    "papermill": {
     "duration": 0.026346,
     "end_time": "2022-10-18T07:48:59.359896",
     "exception": false,
     "start_time": "2022-10-18T07:48:59.333550",
     "status": "completed"
    },
    "tags": []
   },
   "outputs": [
    {
     "data": {
      "application/javascript": [
       "parent.postMessage({\"jupyterEvent\": \"custom.exercise_interaction\", \"data\": {\"outcomeType\": 1, \"valueTowardsCompletion\": 0.14285714285714285, \"interactionType\": 1, \"questionType\": 1, \"questionId\": \"3_ReviewsPerCountry\", \"learnToolsVersion\": \"0.3.4\", \"failureMessage\": \"\", \"exceptionClass\": \"\", \"trace\": \"\"}}, \"*\")"
      ],
      "text/plain": [
       "<IPython.core.display.Javascript object>"
      ]
     },
     "metadata": {},
     "output_type": "display_data"
    },
    {
     "data": {
      "text/markdown": [
       "<span style=\"color:#33cc33\">Correct</span>"
      ],
      "text/plain": [
       "Correct"
      ]
     },
     "metadata": {},
     "output_type": "display_data"
    }
   ],
   "source": [
    "reviews_per_country = reviews.country.value_counts()\n",
    "\n",
    "# Check your answer\n",
    "q3.check()"
   ]
  },
  {
   "cell_type": "code",
   "execution_count": 7,
   "id": "47ddd5cb",
   "metadata": {
    "execution": {
     "iopub.execute_input": "2022-10-18T07:48:59.374938Z",
     "iopub.status.busy": "2022-10-18T07:48:59.374560Z",
     "iopub.status.idle": "2022-10-18T07:48:59.380746Z",
     "shell.execute_reply": "2022-10-18T07:48:59.378089Z"
    },
    "papermill": {
     "duration": 0.016341,
     "end_time": "2022-10-18T07:48:59.383006",
     "exception": false,
     "start_time": "2022-10-18T07:48:59.366665",
     "status": "completed"
    },
    "tags": []
   },
   "outputs": [],
   "source": [
    "#q3.hint()\n",
    "#q3.solution()"
   ]
  },
  {
   "cell_type": "markdown",
   "id": "0c8757c1",
   "metadata": {
    "papermill": {
     "duration": 0.006629,
     "end_time": "2022-10-18T07:48:59.396616",
     "exception": false,
     "start_time": "2022-10-18T07:48:59.389987",
     "status": "completed"
    },
    "tags": []
   },
   "source": [
    "## 4.\n",
    "Create variable `centered_price` containing a version of the `price` column with the mean price subtracted.\n",
    "\n",
    "(Note: this 'centering' transformation is a common preprocessing step before applying various machine learning algorithms.) "
   ]
  },
  {
   "cell_type": "code",
   "execution_count": 8,
   "id": "e64b3d3f",
   "metadata": {
    "execution": {
     "iopub.execute_input": "2022-10-18T07:48:59.413359Z",
     "iopub.status.busy": "2022-10-18T07:48:59.412951Z",
     "iopub.status.idle": "2022-10-18T07:48:59.424222Z",
     "shell.execute_reply": "2022-10-18T07:48:59.423117Z"
    },
    "papermill": {
     "duration": 0.023079,
     "end_time": "2022-10-18T07:48:59.426467",
     "exception": false,
     "start_time": "2022-10-18T07:48:59.403388",
     "status": "completed"
    },
    "tags": []
   },
   "outputs": [
    {
     "data": {
      "application/javascript": [
       "parent.postMessage({\"jupyterEvent\": \"custom.exercise_interaction\", \"data\": {\"outcomeType\": 1, \"valueTowardsCompletion\": 0.14285714285714285, \"interactionType\": 1, \"questionType\": 1, \"questionId\": \"4_CenteredPrice\", \"learnToolsVersion\": \"0.3.4\", \"failureMessage\": \"\", \"exceptionClass\": \"\", \"trace\": \"\"}}, \"*\")"
      ],
      "text/plain": [
       "<IPython.core.display.Javascript object>"
      ]
     },
     "metadata": {},
     "output_type": "display_data"
    },
    {
     "data": {
      "text/markdown": [
       "<span style=\"color:#33cc33\">Correct</span>"
      ],
      "text/plain": [
       "Correct"
      ]
     },
     "metadata": {},
     "output_type": "display_data"
    }
   ],
   "source": [
    "centered_price = reviews.price - reviews.price.mean()\n",
    "\n",
    "# Check your answer\n",
    "q4.check()"
   ]
  },
  {
   "cell_type": "code",
   "execution_count": 9,
   "id": "8fb7140d",
   "metadata": {
    "execution": {
     "iopub.execute_input": "2022-10-18T07:48:59.442386Z",
     "iopub.status.busy": "2022-10-18T07:48:59.441992Z",
     "iopub.status.idle": "2022-10-18T07:48:59.446840Z",
     "shell.execute_reply": "2022-10-18T07:48:59.445686Z"
    },
    "papermill": {
     "duration": 0.0153,
     "end_time": "2022-10-18T07:48:59.448995",
     "exception": false,
     "start_time": "2022-10-18T07:48:59.433695",
     "status": "completed"
    },
    "tags": []
   },
   "outputs": [],
   "source": [
    "#q4.hint()\n",
    "#q4.solution()"
   ]
  },
  {
   "cell_type": "markdown",
   "id": "5a45b716",
   "metadata": {
    "papermill": {
     "duration": 0.006893,
     "end_time": "2022-10-18T07:48:59.462939",
     "exception": false,
     "start_time": "2022-10-18T07:48:59.456046",
     "status": "completed"
    },
    "tags": []
   },
   "source": [
    "## 5.\n",
    "I'm an economical wine buyer. Which wine is the \"best bargain\"? Create a variable `bargain_wine` with the title of the wine with the highest points-to-price ratio in the dataset."
   ]
  },
  {
   "cell_type": "code",
   "execution_count": 10,
   "id": "0bf3cc43",
   "metadata": {
    "execution": {
     "iopub.execute_input": "2022-10-18T07:48:59.478967Z",
     "iopub.status.busy": "2022-10-18T07:48:59.478587Z",
     "iopub.status.idle": "2022-10-18T07:48:59.491914Z",
     "shell.execute_reply": "2022-10-18T07:48:59.490706Z"
    },
    "papermill": {
     "duration": 0.024131,
     "end_time": "2022-10-18T07:48:59.494219",
     "exception": false,
     "start_time": "2022-10-18T07:48:59.470088",
     "status": "completed"
    },
    "tags": []
   },
   "outputs": [
    {
     "data": {
      "application/javascript": [
       "parent.postMessage({\"jupyterEvent\": \"custom.exercise_interaction\", \"data\": {\"outcomeType\": 1, \"valueTowardsCompletion\": 0.14285714285714285, \"interactionType\": 1, \"questionType\": 2, \"questionId\": \"5_BargainWine\", \"learnToolsVersion\": \"0.3.4\", \"failureMessage\": \"\", \"exceptionClass\": \"\", \"trace\": \"\"}}, \"*\")"
      ],
      "text/plain": [
       "<IPython.core.display.Javascript object>"
      ]
     },
     "metadata": {},
     "output_type": "display_data"
    },
    {
     "data": {
      "text/markdown": [
       "<span style=\"color:#33cc33\">Correct</span>"
      ],
      "text/plain": [
       "Correct"
      ]
     },
     "metadata": {},
     "output_type": "display_data"
    }
   ],
   "source": [
    "bargain_idx = (reviews.points/reviews.price).idxmax()\n",
    "bargain_wine = reviews.loc[bargain_idx, 'title']\n",
    "# Check your answer\n",
    "q5.check()"
   ]
  },
  {
   "cell_type": "code",
   "execution_count": 11,
   "id": "7026807b",
   "metadata": {
    "execution": {
     "iopub.execute_input": "2022-10-18T07:48:59.512025Z",
     "iopub.status.busy": "2022-10-18T07:48:59.511560Z",
     "iopub.status.idle": "2022-10-18T07:48:59.516250Z",
     "shell.execute_reply": "2022-10-18T07:48:59.515211Z"
    },
    "papermill": {
     "duration": 0.01633,
     "end_time": "2022-10-18T07:48:59.518585",
     "exception": false,
     "start_time": "2022-10-18T07:48:59.502255",
     "status": "completed"
    },
    "tags": []
   },
   "outputs": [],
   "source": [
    "# q5.hint()\n",
    "# q5.solution()"
   ]
  },
  {
   "cell_type": "markdown",
   "id": "096327c0",
   "metadata": {
    "papermill": {
     "duration": 0.007,
     "end_time": "2022-10-18T07:48:59.533174",
     "exception": false,
     "start_time": "2022-10-18T07:48:59.526174",
     "status": "completed"
    },
    "tags": []
   },
   "source": [
    "## 6.\n",
    "There are only so many words you can use when describing a bottle of wine. Is a wine more likely to be \"tropical\" or \"fruity\"? Create a Series `descriptor_counts` counting how many times each of these two words appears in the `description` column in the dataset. (For simplicity, let's ignore the capitalized versions of these words.)"
   ]
  },
  {
   "cell_type": "code",
   "execution_count": 12,
   "id": "005e4f41",
   "metadata": {
    "execution": {
     "iopub.execute_input": "2022-10-18T07:48:59.549556Z",
     "iopub.status.busy": "2022-10-18T07:48:59.549123Z",
     "iopub.status.idle": "2022-10-18T07:48:59.695364Z",
     "shell.execute_reply": "2022-10-18T07:48:59.693670Z"
    },
    "papermill": {
     "duration": 0.157064,
     "end_time": "2022-10-18T07:48:59.697602",
     "exception": false,
     "start_time": "2022-10-18T07:48:59.540538",
     "status": "completed"
    },
    "tags": []
   },
   "outputs": [
    {
     "data": {
      "application/javascript": [
       "parent.postMessage({\"jupyterEvent\": \"custom.exercise_interaction\", \"data\": {\"outcomeType\": 1, \"valueTowardsCompletion\": 0.14285714285714285, \"interactionType\": 1, \"questionType\": 1, \"questionId\": \"6_DescriptorCounts\", \"learnToolsVersion\": \"0.3.4\", \"failureMessage\": \"\", \"exceptionClass\": \"\", \"trace\": \"\"}}, \"*\")"
      ],
      "text/plain": [
       "<IPython.core.display.Javascript object>"
      ]
     },
     "metadata": {},
     "output_type": "display_data"
    },
    {
     "data": {
      "text/markdown": [
       "<span style=\"color:#33cc33\">Correct</span>"
      ],
      "text/plain": [
       "Correct"
      ]
     },
     "metadata": {},
     "output_type": "display_data"
    }
   ],
   "source": [
    "n_tropy = reviews.description.map(lambda p: \"tropical\" in p).sum()\n",
    "n_fruity = reviews.description.map(lambda p: \"fruity\" in p).sum()\n",
    "descriptor_counts = pd.Series([n_tropy, n_fruity], index=['tropical', 'fruity'])\n",
    "# Check your answer\n",
    "q6.check()"
   ]
  },
  {
   "cell_type": "code",
   "execution_count": 13,
   "id": "b49fe38d",
   "metadata": {
    "execution": {
     "iopub.execute_input": "2022-10-18T07:48:59.714940Z",
     "iopub.status.busy": "2022-10-18T07:48:59.714521Z",
     "iopub.status.idle": "2022-10-18T07:48:59.719436Z",
     "shell.execute_reply": "2022-10-18T07:48:59.718202Z"
    },
    "papermill": {
     "duration": 0.016499,
     "end_time": "2022-10-18T07:48:59.722042",
     "exception": false,
     "start_time": "2022-10-18T07:48:59.705543",
     "status": "completed"
    },
    "tags": []
   },
   "outputs": [],
   "source": [
    "#q6.hint()\n",
    "# q6.solution()"
   ]
  },
  {
   "cell_type": "markdown",
   "id": "d26ad31c",
   "metadata": {
    "papermill": {
     "duration": 0.007362,
     "end_time": "2022-10-18T07:48:59.737284",
     "exception": false,
     "start_time": "2022-10-18T07:48:59.729922",
     "status": "completed"
    },
    "tags": []
   },
   "source": [
    "## 7.\n",
    "We'd like to host these wine reviews on our website, but a rating system ranging from 80 to 100 points is too hard to understand - we'd like to translate them into simple star ratings. A score of 95 or higher counts as 3 stars, a score of at least 85 but less than 95 is 2 stars. Any other score is 1 star.\n",
    "\n",
    "Also, the Canadian Vintners Association bought a lot of ads on the site, so any wines from Canada should automatically get 3 stars, regardless of points.\n",
    "\n",
    "Create a series `star_ratings` with the number of stars corresponding to each review in the dataset."
   ]
  },
  {
   "cell_type": "code",
   "execution_count": 14,
   "id": "81a0683b",
   "metadata": {
    "execution": {
     "iopub.execute_input": "2022-10-18T07:48:59.754242Z",
     "iopub.status.busy": "2022-10-18T07:48:59.753814Z",
     "iopub.status.idle": "2022-10-18T07:49:02.654253Z",
     "shell.execute_reply": "2022-10-18T07:49:02.653081Z"
    },
    "papermill": {
     "duration": 2.911746,
     "end_time": "2022-10-18T07:49:02.656721",
     "exception": false,
     "start_time": "2022-10-18T07:48:59.744975",
     "status": "completed"
    },
    "tags": []
   },
   "outputs": [
    {
     "data": {
      "application/javascript": [
       "parent.postMessage({\"jupyterEvent\": \"custom.exercise_interaction\", \"data\": {\"outcomeType\": 1, \"valueTowardsCompletion\": 0.14285714285714285, \"interactionType\": 1, \"questionType\": 1, \"questionId\": \"7_StarRatings\", \"learnToolsVersion\": \"0.3.4\", \"failureMessage\": \"\", \"exceptionClass\": \"\", \"trace\": \"\"}}, \"*\")"
      ],
      "text/plain": [
       "<IPython.core.display.Javascript object>"
      ]
     },
     "metadata": {},
     "output_type": "display_data"
    },
    {
     "data": {
      "text/markdown": [
       "<span style=\"color:#33cc33\">Correct</span>"
      ],
      "text/plain": [
       "Correct"
      ]
     },
     "metadata": {},
     "output_type": "display_data"
    }
   ],
   "source": [
    "def create_star_ratings(row):\n",
    "    if(row.points >= 95):\n",
    "        return 3\n",
    "    elif(row.points >= 85):\n",
    "        return 2\n",
    "    else:\n",
    "        return 1\n",
    "    \n",
    "star_ratings = reviews.apply(create_star_ratings, axis=\"columns\")\n",
    "# Check your answer\n",
    "q7.check()"
   ]
  },
  {
   "cell_type": "code",
   "execution_count": 15,
   "id": "8f4eadcf",
   "metadata": {
    "execution": {
     "iopub.execute_input": "2022-10-18T07:49:02.674987Z",
     "iopub.status.busy": "2022-10-18T07:49:02.674294Z",
     "iopub.status.idle": "2022-10-18T07:49:02.679013Z",
     "shell.execute_reply": "2022-10-18T07:49:02.677852Z"
    },
    "papermill": {
     "duration": 0.016636,
     "end_time": "2022-10-18T07:49:02.681349",
     "exception": false,
     "start_time": "2022-10-18T07:49:02.664713",
     "status": "completed"
    },
    "tags": []
   },
   "outputs": [],
   "source": [
    "#q7.hint()\n",
    "#q7.solution()"
   ]
  },
  {
   "cell_type": "markdown",
   "id": "8e22fc76",
   "metadata": {
    "papermill": {
     "duration": 0.008032,
     "end_time": "2022-10-18T07:49:02.697543",
     "exception": false,
     "start_time": "2022-10-18T07:49:02.689511",
     "status": "completed"
    },
    "tags": []
   },
   "source": [
    "# Keep going\n",
    "Continue to **[grouping and sorting](https://www.kaggle.com/residentmario/grouping-and-sorting)**."
   ]
  },
  {
   "cell_type": "markdown",
   "id": "40768452",
   "metadata": {
    "papermill": {
     "duration": 0.007735,
     "end_time": "2022-10-18T07:49:02.713492",
     "exception": false,
     "start_time": "2022-10-18T07:49:02.705757",
     "status": "completed"
    },
    "tags": []
   },
   "source": [
    "---\n",
    "\n",
    "\n",
    "\n",
    "\n",
    "*Have questions or comments? Visit the [course discussion forum](https://www.kaggle.com/learn/pandas/discussion) to chat with other learners.*"
   ]
  }
 ],
 "metadata": {
  "kernelspec": {
   "display_name": "Python 3",
   "language": "python",
   "name": "python3"
  },
  "language_info": {
   "codemirror_mode": {
    "name": "ipython",
    "version": 3
   },
   "file_extension": ".py",
   "mimetype": "text/x-python",
   "name": "python",
   "nbconvert_exporter": "python",
   "pygments_lexer": "ipython3",
   "version": "3.7.12"
  },
  "papermill": {
   "default_parameters": {},
   "duration": 20.237009,
   "end_time": "2022-10-18T07:49:03.443461",
   "environment_variables": {},
   "exception": null,
   "input_path": "__notebook__.ipynb",
   "output_path": "__notebook__.ipynb",
   "parameters": {},
   "start_time": "2022-10-18T07:48:43.206452",
   "version": "2.3.4"
  }
 },
 "nbformat": 4,
 "nbformat_minor": 5
}
